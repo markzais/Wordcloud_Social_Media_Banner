{
 "cells": [
  {
   "cell_type": "code",
   "execution_count": null,
   "id": "83f5ffdb",
   "metadata": {},
   "outputs": [],
   "source": [
    "from wordcloud import WordCloud, STOPWORDS\n",
    "import matplotlib.pyplot as plt\n",
    "import random\n",
    "import nltk\n",
    "from nltk.tokenize import word_tokenize\n",
    "from nltk.stem import WordNetLemmatizer\n",
    "from nltk.corpus import stopwords"
   ]
  },
  {
   "cell_type": "code",
   "execution_count": null,
   "id": "f0b97e64",
   "metadata": {},
   "outputs": [],
   "source": [
    "# Download NLTK data files (if not already downloaded)\n",
    "nltk.download('punkt')\n",
    "nltk.download('averaged_perceptron_tagger')\n",
    "nltk.download('wordnet')\n",
    "nltk.download('omw-1.4')"
   ]
  },
  {
   "cell_type": "code",
   "execution_count": null,
   "id": "efb45cdc",
   "metadata": {},
   "outputs": [],
   "source": [
    "# Read file\n",
    "fileName = \"linkedin2.txt\"\n",
    "with open(fileName, 'r') as file:\n",
    "    text = file.read().replace('\\n', ' ')"
   ]
  },
  {
   "cell_type": "code",
   "execution_count": null,
   "id": "d29f4728",
   "metadata": {},
   "outputs": [],
   "source": [
    "# Text processing\n",
    "words = word_tokenize(text)\n",
    "tags = nltk.pos_tag(words)\n",
    "lem = WordNetLemmatizer()\n",
    "\n",
    "lemWords = []\n",
    "for word, tag in tags:\n",
    "    if tag.startswith('VB'):\n",
    "        lemWord = lem.lemmatize(word, 'v')\n",
    "    else:\n",
    "        lemWord = lem.lemmatize(word)\n",
    "    lemWords.append(lemWord)\n",
    "\n",
    "finalText = ' '.join(lemWords)"
   ]
  },
  {
   "cell_type": "code",
   "execution_count": null,
   "id": "b52f9e58",
   "metadata": {},
   "outputs": [],
   "source": [
    "# Create LinkedIn word cloud\n",
    "linkedin_wordcloud = WordCloud(\n",
    "    width=1584, height=396,\n",
    "    background_color='black',\n",
    "    min_font_size=20,\n",
    "    max_font_size=50,\n",
    "    repeat=True,\n",
    "    relative_scaling=0,\n",
    "    normalize_plurals=False,\n",
    "    min_word_length=1,\n",
    "    random_state=34\n",
    ").generate(finalText)"
   ]
  },
  {
   "cell_type": "code",
   "execution_count": null,
   "id": "7fa52a3b",
   "metadata": {},
   "outputs": [],
   "source": [
    "# Create Twitter word cloud\n",
    "twitter_wordcloud = WordCloud(\n",
    "    width=1263, height=421,\n",
    "    background_color='black',\n",
    "    min_font_size=20,\n",
    "    max_font_size=50,\n",
    "    repeat=True,\n",
    "    relative_scaling=0,\n",
    "    normalize_plurals=False,\n",
    "    min_word_length=1,\n",
    "    random_state=44\n",
    ").generate(finalText)"
   ]
  },
  {
   "cell_type": "code",
   "execution_count": null,
   "id": "87ab233f",
   "metadata": {},
   "outputs": [],
   "source": [
    "# Custom color function for grey scale\n",
    "def grey_color_func(word, font_size, position, orientation, random_state=None, **kwargs):\n",
    "    return f\"hsl(0, 0%, {random.randint(60, 100)}%)\""
   ]
  },
  {
   "cell_type": "code",
   "execution_count": null,
   "id": "1276c2a0",
   "metadata": {},
   "outputs": [],
   "source": [
    "# Plot LinkedIn word cloud\n",
    "plt.figure(figsize=(8, 2), facecolor=None)\n",
    "plt.imshow(linkedin_wordcloud.recolor(color_func=grey_color_func, random_state=2), interpolation=\"bilinear\")\n",
    "plt.axis(\"off\")\n",
    "plt.tight_layout(pad=0)\n",
    "plt.savefig(\"linkedin_wordcloud.png\")\n",
    "plt.show()"
   ]
  },
  {
   "cell_type": "code",
   "execution_count": null,
   "id": "caf9d170",
   "metadata": {},
   "outputs": [],
   "source": [
    "# Plot Twitter word cloud\n",
    "plt.figure(figsize=(8, 2.67), facecolor=None)\n",
    "plt.imshow(twitter_wordcloud.recolor(color_func=grey_color_func, random_state=3), interpolation=\"bilinear\")\n",
    "plt.axis(\"off\")\n",
    "plt.tight_layout(pad=0)\n",
    "plt.savefig(\"twitter_wordcloud.png\")\n",
    "plt.show()"
   ]
  },
  {
   "cell_type": "code",
   "execution_count": null,
   "id": "dc1077e7",
   "metadata": {},
   "outputs": [],
   "source": [
    "# Create condensed (width) LinkedIn word cloud so that I can attach a picture to the right\n",
    "linkedin_wordcloud2 = WordCloud(\n",
    "    width= 960, height=396,\n",
    "    background_color='black',\n",
    "    min_font_size=20,\n",
    "    max_font_size=50,\n",
    "    repeat=True,\n",
    "    relative_scaling=0,\n",
    "    normalize_plurals=False,\n",
    "    min_word_length=1,\n",
    "    random_state=34\n",
    ").generate(finalText)"
   ]
  },
  {
   "cell_type": "code",
   "execution_count": null,
   "id": "35118b57",
   "metadata": {},
   "outputs": [],
   "source": [
    "# Plot condensed LinkedIn word cloud\n",
    "plt.figure(figsize=(6.2, 2.4), facecolor=None)\n",
    "plt.imshow(linkedin_wordcloud2.recolor(color_func=grey_color_func, random_state=2), interpolation=\"bilinear\")\n",
    "plt.axis(\"off\")\n",
    "plt.tight_layout(pad=0)\n",
    "plt.savefig(\"linkedin_wordcloud2.png\")\n",
    "plt.show()"
   ]
  },
  {
   "cell_type": "code",
   "execution_count": null,
   "id": "f40fd779",
   "metadata": {},
   "outputs": [],
   "source": []
  }
 ],
 "metadata": {
  "kernelspec": {
   "display_name": "Python 3 (ipykernel)",
   "language": "python",
   "name": "python3"
  },
  "language_info": {
   "codemirror_mode": {
    "name": "ipython",
    "version": 3
   },
   "file_extension": ".py",
   "mimetype": "text/x-python",
   "name": "python",
   "nbconvert_exporter": "python",
   "pygments_lexer": "ipython3",
   "version": "3.9.13"
  }
 },
 "nbformat": 4,
 "nbformat_minor": 5
}
